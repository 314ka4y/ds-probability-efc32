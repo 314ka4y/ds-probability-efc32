{
 "cells": [
  {
   "cell_type": "markdown",
   "metadata": {
    "toc": true
   },
   "source": [
    "<h1>Table of Contents<span class=\"tocSkip\"></span></h1>\n",
    "<div class=\"toc\"><ul class=\"toc-item\"><li><span><a href=\"#Probabilty-Fundamentals\" data-toc-modified-id=\"Probabilty-Fundamentals-1\"><span class=\"toc-item-num\">1&nbsp;&nbsp;</span>Probabilty Fundamentals</a></span></li><li><span><a href=\"#Objectives\" data-toc-modified-id=\"Objectives-2\"><span class=\"toc-item-num\">2&nbsp;&nbsp;</span>Objectives</a></span></li><li><span><a href=\"#Set-Theory\" data-toc-modified-id=\"Set-Theory-3\"><span class=\"toc-item-num\">3&nbsp;&nbsp;</span>Set Theory</a></span><ul class=\"toc-item\"><li><span><a href=\"#Empty-Set\" data-toc-modified-id=\"Empty-Set-3.1\"><span class=\"toc-item-num\">3.1&nbsp;&nbsp;</span>Empty Set</a></span></li><li><span><a href=\"#Subsets\" data-toc-modified-id=\"Subsets-3.2\"><span class=\"toc-item-num\">3.2&nbsp;&nbsp;</span>Subsets</a></span></li><li><span><a href=\"#Set-Operations\" data-toc-modified-id=\"Set-Operations-3.3\"><span class=\"toc-item-num\">3.3&nbsp;&nbsp;</span>Set Operations</a></span></li><li><span><a href=\"#Python-&amp;-Sets\" data-toc-modified-id=\"Python-&amp;-Sets-3.4\"><span class=\"toc-item-num\">3.4&nbsp;&nbsp;</span>Python &amp; Sets</a></span></li></ul></li><li><span><a href=\"#Probability-Theory\" data-toc-modified-id=\"Probability-Theory-4\"><span class=\"toc-item-num\">4&nbsp;&nbsp;</span>Probability Theory</a></span><ul class=\"toc-item\"><li><span><a href=\"#What-should-I-care-about-probabilities?\" data-toc-modified-id=\"What-should-I-care-about-probabilities?-4.1\"><span class=\"toc-item-num\">4.1&nbsp;&nbsp;</span>What should I care about probabilities?</a></span></li><li><span><a href=\"#Probability-Terminology\" data-toc-modified-id=\"Probability-Terminology-4.2\"><span class=\"toc-item-num\">4.2&nbsp;&nbsp;</span>Probability Terminology</a></span><ul class=\"toc-item\"><li><span><a href=\"#Random-Variables\" data-toc-modified-id=\"Random-Variables-4.2.1\"><span class=\"toc-item-num\">4.2.1&nbsp;&nbsp;</span>Random Variables</a></span></li></ul></li><li><span><a href=\"#Probability-using-Sets\" data-toc-modified-id=\"Probability-using-Sets-4.3\"><span class=\"toc-item-num\">4.3&nbsp;&nbsp;</span>Probability using Sets</a></span></li><li><span><a href=\"#Joint-Probability\" data-toc-modified-id=\"Joint-Probability-4.4\"><span class=\"toc-item-num\">4.4&nbsp;&nbsp;</span>Joint Probability</a></span></li></ul></li><li><span><a href=\"#Conditional-Probability\" data-toc-modified-id=\"Conditional-Probability-5\"><span class=\"toc-item-num\">5&nbsp;&nbsp;</span>Conditional Probability</a></span><ul class=\"toc-item\"><li><span><a href=\"#Fermat-and-Pascal:-The-Unfinished-Game\" data-toc-modified-id=\"Fermat-and-Pascal:-The-Unfinished-Game-5.1\"><span class=\"toc-item-num\">5.1&nbsp;&nbsp;</span>Fermat and Pascal: The Unfinished Game</a></span></li><li><span><a href=\"#A-New-Condition\" data-toc-modified-id=\"A-New-Condition-5.2\"><span class=\"toc-item-num\">5.2&nbsp;&nbsp;</span>A New Condition</a></span></li><li><span><a href=\"#Conditional-Probability-Rules\" data-toc-modified-id=\"Conditional-Probability-Rules-5.3\"><span class=\"toc-item-num\">5.3&nbsp;&nbsp;</span>Conditional Probability Rules</a></span></li><li><span><a href=\"#Conditional-Probability-Example\" data-toc-modified-id=\"Conditional-Probability-Example-5.4\"><span class=\"toc-item-num\">5.4&nbsp;&nbsp;</span>Conditional Probability Example</a></span></li></ul></li><li><span><a href=\"#The-Law-of-Total-Probability\" data-toc-modified-id=\"The-Law-of-Total-Probability-6\"><span class=\"toc-item-num\">6&nbsp;&nbsp;</span>The Law of Total Probability</a></span></li><li><span><a href=\"#Level-Up:-Python-Sets\" data-toc-modified-id=\"Level-Up:-Python-Sets-7\"><span class=\"toc-item-num\">7&nbsp;&nbsp;</span>Level Up: Python Sets</a></span><ul class=\"toc-item\"><li><span><a href=\"#Set-Theory\" data-toc-modified-id=\"Set-Theory-7.1\"><span class=\"toc-item-num\">7.1&nbsp;&nbsp;</span>Set Theory</a></span><ul class=\"toc-item\"><li><span><a href=\"#Empty-Set\" data-toc-modified-id=\"Empty-Set-7.1.1\"><span class=\"toc-item-num\">7.1.1&nbsp;&nbsp;</span>Empty Set</a></span></li><li><span><a href=\"#Iterables\" data-toc-modified-id=\"Iterables-7.1.2\"><span class=\"toc-item-num\">7.1.2&nbsp;&nbsp;</span>Iterables</a></span></li></ul></li><li><span><a href=\"#Subsets\" data-toc-modified-id=\"Subsets-7.2\"><span class=\"toc-item-num\">7.2&nbsp;&nbsp;</span>Subsets</a></span></li><li><span><a href=\"#Set-Operations---Example\" data-toc-modified-id=\"Set-Operations---Example-7.3\"><span class=\"toc-item-num\">7.3&nbsp;&nbsp;</span>Set Operations - Example</a></span></li></ul></li><li><span><a href=\"#Level-Up:-Bayes-Theorem\" data-toc-modified-id=\"Level-Up:-Bayes-Theorem-8\"><span class=\"toc-item-num\">8&nbsp;&nbsp;</span>Level Up: Bayes Theorem</a></span></li><li><span><a href=\"#Level-Up:-Permutations-&amp;-Combinations\" data-toc-modified-id=\"Level-Up:-Permutations-&amp;-Combinations-9\"><span class=\"toc-item-num\">9&nbsp;&nbsp;</span>Level Up: Permutations &amp; Combinations</a></span><ul class=\"toc-item\"><li><ul class=\"toc-item\"><li><span><a href=\"#Permutations\" data-toc-modified-id=\"Permutations-9.0.1\"><span class=\"toc-item-num\">9.0.1&nbsp;&nbsp;</span>Permutations</a></span><ul class=\"toc-item\"><li><span><a href=\"#Easiest-Scenario\" data-toc-modified-id=\"Easiest-Scenario-9.0.1.1\"><span class=\"toc-item-num\">9.0.1.1&nbsp;&nbsp;</span>Easiest Scenario</a></span></li><li><span><a href=\"#Intermediate-Scenario\" data-toc-modified-id=\"Intermediate-Scenario-9.0.1.2\"><span class=\"toc-item-num\">9.0.1.2&nbsp;&nbsp;</span>Intermediate Scenario</a></span></li><li><span><a href=\"#Level-Up-Scenario\" data-toc-modified-id=\"Level-Up-Scenario-9.0.1.3\"><span class=\"toc-item-num\">9.0.1.3&nbsp;&nbsp;</span>Level Up Scenario</a></span></li></ul></li><li><span><a href=\"#Combinations\" data-toc-modified-id=\"Combinations-9.0.2\"><span class=\"toc-item-num\">9.0.2&nbsp;&nbsp;</span>Combinations</a></span><ul class=\"toc-item\"><li><span><a href=\"#Easier-Scenario:\" data-toc-modified-id=\"Easier-Scenario:-9.0.2.1\"><span class=\"toc-item-num\">9.0.2.1&nbsp;&nbsp;</span>Easier Scenario:</a></span></li><li><span><a href=\"#Level-Up-Scenario\" data-toc-modified-id=\"Level-Up-Scenario-9.0.2.2\"><span class=\"toc-item-num\">9.0.2.2&nbsp;&nbsp;</span>Level Up Scenario</a></span></li></ul></li></ul></li></ul></li><li><span><a href=\"#Level-Up:-Three-Events\" data-toc-modified-id=\"Level-Up:-Three-Events-10\"><span class=\"toc-item-num\">10&nbsp;&nbsp;</span>Level Up: Three Events</a></span></li></ul></div>"
   ]
  },
  {
   "cell_type": "markdown",
   "metadata": {
    "heading_collapsed": true,
    "slideshow": {
     "slide_type": "slide"
    }
   },
   "source": [
    "# Probabilty Fundamentals"
   ]
  },
  {
   "cell_type": "markdown",
   "metadata": {
    "hidden": true,
    "slideshow": {
     "slide_type": "slide"
    }
   },
   "source": [
    "![xkcd](img/increased_risk_2x.png)\n",
    "> [xkcd comic 1252](https://xkcd.com/1252/)"
   ]
  },
  {
   "cell_type": "markdown",
   "metadata": {
    "heading_collapsed": true,
    "slideshow": {
     "slide_type": "slide"
    }
   },
   "source": [
    "# Objectives"
   ]
  },
  {
   "cell_type": "markdown",
   "metadata": {
    "hidden": true,
    "slideshow": {
     "slide_type": "slide"
    }
   },
   "source": [
    "- Describe the fundamentals of probability theory\n",
    "- Describe set theory and its terminology\n",
    "- Define the size of sets with permutations and combinations\n",
    "- Define conditional probability"
   ]
  },
  {
   "cell_type": "markdown",
   "metadata": {
    "heading_collapsed": true,
    "slideshow": {
     "slide_type": "slide"
    }
   },
   "source": [
    "# Set Theory"
   ]
  },
  {
   "cell_type": "markdown",
   "metadata": {
    "hidden": true,
    "slideshow": {
     "slide_type": "slide"
    }
   },
   "source": [
    "In probability theory, a **set** is a well-defined collection of objects.\n",
    "\n",
    "If an **element** $x$ belongs to a set $S$, then you'd write $x \\in S$. On the other hand, if $x$ does not belong to a set $S$, then you'd write $x\\notin S$."
   ]
  },
  {
   "cell_type": "markdown",
   "metadata": {
    "heading_collapsed": true,
    "hidden": true
   },
   "source": [
    "## Empty Set"
   ]
  },
  {
   "cell_type": "markdown",
   "metadata": {
    "hidden": true
   },
   "source": [
    "The **empty set**, written as $\\emptyset$ or { }, has no elements"
   ]
  },
  {
   "cell_type": "markdown",
   "metadata": {
    "heading_collapsed": true,
    "hidden": true,
    "slideshow": {
     "slide_type": "slide"
    }
   },
   "source": [
    "## Subsets"
   ]
  },
  {
   "cell_type": "markdown",
   "metadata": {
    "hidden": true,
    "slideshow": {
     "slide_type": "slide"
    }
   },
   "source": [
    "Set $T$ is a **subset** of set $S$ if every element in set $T$ is also in set $S$. The mathematical notation for a subset is $T \\subset S$."
   ]
  },
  {
   "cell_type": "markdown",
   "metadata": {
    "hidden": true
   },
   "source": [
    "The empty set is a subset of every set."
   ]
  },
  {
   "cell_type": "markdown",
   "metadata": {
    "heading_collapsed": true,
    "hidden": true
   },
   "source": [
    "## Set Operations"
   ]
  },
  {
   "cell_type": "markdown",
   "metadata": {
    "hidden": true
   },
   "source": [
    "The **union** of 2 sets $S$ and $T$ is the set of elements of either $S$ or $T$, or in both. We denote this with the symbol $\\cup$.\n",
    "    \n",
    "The **intersection** of two sets $S$ and $T$ is the set that contains all elements of $S$ that also belong to $T$. We denote this with the symbol $\\cap$."
   ]
  },
  {
   "cell_type": "markdown",
   "metadata": {
    "heading_collapsed": true,
    "hidden": true
   },
   "source": [
    "## Python & Sets"
   ]
  },
  {
   "cell_type": "markdown",
   "metadata": {
    "hidden": true
   },
   "source": [
    "> Python actually has sets as a type and can be useful since they follow the mathematical rules described! We won't go into this now but you can checkout the [_Level Up_ section](#Level-Up:-Python-Sets) towards the end of this notebook"
   ]
  },
  {
   "cell_type": "markdown",
   "metadata": {
    "heading_collapsed": true,
    "slideshow": {
     "slide_type": "slide"
    }
   },
   "source": [
    "# Probability Theory"
   ]
  },
  {
   "cell_type": "markdown",
   "metadata": {
    "hidden": true,
    "slideshow": {
     "slide_type": "slide"
    }
   },
   "source": [
    "Probability theory is the study of the frequency of a given event occurring with respect to all possible events. In this section we'll discuss the event space & sets, calculate the probability of events, and discuss the relevance of probability theory in data science."
   ]
  },
  {
   "cell_type": "markdown",
   "metadata": {
    "heading_collapsed": true,
    "hidden": true,
    "slideshow": {
     "slide_type": "slide"
    }
   },
   "source": [
    "## What should I care about probabilities?"
   ]
  },
  {
   "cell_type": "markdown",
   "metadata": {
    "hidden": true,
    "slideshow": {
     "slide_type": "slide"
    }
   },
   "source": [
    "Studying probabilities allows us to make better and more informed decisions, based on data previously collected. For example, understanding the fact that it is nearly impossible for us to ever win the lottery from a probabilistic standpoint deters us from using it as a source of income.\n",
    "\n",
    "Probability theory also lies at the heart of making inferences using our data, which is what statistics is all about!"
   ]
  },
  {
   "cell_type": "markdown",
   "metadata": {
    "heading_collapsed": true,
    "hidden": true,
    "slideshow": {
     "slide_type": "slide"
    }
   },
   "source": [
    "## Probability Terminology"
   ]
  },
  {
   "cell_type": "markdown",
   "metadata": {
    "hidden": true,
    "slideshow": {
     "slide_type": "slide"
    }
   },
   "source": [
    "- An **outcome** is a possible result of a random phenomenon (e.g. a 5 on a six-sided die)\n",
    "- A **sample space** is the set of all possible outcomes for a random phenomenon (e.g. {1, 2, 3, 4, 5, 6} for rolling a six-sided die)\n",
    "- An **event** is a specific outcome of a random phenomemon (e.g. actually rolling a six-sided die and getting a 5)"
   ]
  },
  {
   "cell_type": "markdown",
   "metadata": {
    "heading_collapsed": true,
    "hidden": true
   },
   "source": [
    "### Random Variables"
   ]
  },
  {
   "cell_type": "markdown",
   "metadata": {
    "hidden": true
   },
   "source": [
    "![Random Number Generator](img/random_number_generator_comic.gif)\n",
    "\n",
    "> [Source: _Dilbert_ comic](https://dilbert.com/strip/2001-10-25)"
   ]
  },
  {
   "cell_type": "markdown",
   "metadata": {
    "hidden": true
   },
   "source": [
    "> A **random variable** has an outcome that can take on different values, resulting from a random phenomenon"
   ]
  },
  {
   "cell_type": "markdown",
   "metadata": {
    "hidden": true
   },
   "source": [
    "- A random variable can either be continuous or discrete\n",
    "    - **Continuous**: the variable can have any values within a range (e.g. a person's height)\n",
    "    - **Discrete**: the variable can only have a finite subset of values within a range (e.g. number of cars owned)"
   ]
  },
  {
   "cell_type": "markdown",
   "metadata": {
    "hidden": true
   },
   "source": [
    "This allows us think of events in mathematical terms and use mathematical notation to abstract the ideas."
   ]
  },
  {
   "cell_type": "markdown",
   "metadata": {
    "hidden": true
   },
   "source": [
    "For example, let's state that $Y$ is the number of tails after $10$ flips.\n",
    "\n",
    "Thus we can write these examples:\n",
    "\n",
    "- $P(Y=3)$ is _the probability of having $3$ tails after flipping a coin $10$ times_\n",
    "- $P(Y\\le8)$ is _the probability of having $8$ or fewer tails after flipping a coin $10$ times_\n",
    "- $P(Y\\text{ is even})$ is _the probability that the number of tails is even after flipping a coin $10$ times_\n",
    "\n",
    "Hopefully, you can now see the power of abstracting these outcomes with notation."
   ]
  },
  {
   "cell_type": "markdown",
   "metadata": {
    "heading_collapsed": true,
    "hidden": true
   },
   "source": [
    "## Probability using Sets"
   ]
  },
  {
   "cell_type": "markdown",
   "metadata": {
    "hidden": true
   },
   "source": [
    "In its most basic form, the **probability** of an event occurring is the size of the successful outcome set divided by the size of the sample space.\n",
    "\n",
    "**Example**: What is the probability of rolling an even number on a six-sided die?\n",
    "\n",
    "* Successful outcomes: {2, 4, 6} has size 3\n",
    "* Sample space: {1, 2, 3, 4, 5, 6} has size 6\n",
    "* Probability = 3/6 = 1/2 = 50%"
   ]
  },
  {
   "cell_type": "markdown",
   "metadata": {
    "hidden": true
   },
   "source": [
    "We sometimes write probability statements using notation like $P(E) = 0.5$, where $E$ is an event, such as rolling an even number on a six sided die."
   ]
  },
  {
   "cell_type": "markdown",
   "metadata": {
    "heading_collapsed": true,
    "hidden": true,
    "slideshow": {
     "slide_type": "slide"
    }
   },
   "source": [
    "## Joint Probability"
   ]
  },
  {
   "cell_type": "markdown",
   "metadata": {
    "hidden": true,
    "slideshow": {
     "slide_type": "slide"
    }
   },
   "source": [
    "Sometimes we want to know the probability of two different events occurring - we refer to this as **joint probability**.\n",
    "\n",
    "Events $A$ and $B$ are **independent** when the outcome of $A$ has no bearing on the outcome of $B$. (e.g. rolling a die and tossing a coin).\n",
    "\n",
    "*If $A$ and $B$ are independent*, the probability that *both* $A$ *and* $B$ happen is:\n",
    "\n",
    "<center>$P(A \\cap B) = P(A) * P(B)$</center>"
   ]
  },
  {
   "cell_type": "markdown",
   "metadata": {
    "hidden": true,
    "slideshow": {
     "slide_type": "slide"
    }
   },
   "source": [
    "*If $A$ and $B$ are independent*, the probability that *either* $A$ *or* $B$ happens is:\n",
    "\n",
    "<center>$P(A  \\cup  B) = P(A) + P(B) - P(A  \\cap  B)$</center>"
   ]
  },
  {
   "cell_type": "markdown",
   "metadata": {
    "hidden": true
   },
   "source": [
    "**AND Question**: What is the probability of rolling a 5 on a die _and_ getting a tails on a coin toss?"
   ]
  },
  {
   "cell_type": "markdown",
   "metadata": {
    "hidden": true
   },
   "source": [
    "**OR Question**: What is the probability of rolling a 5 on a die _or_ getting a tails on a coin toss?"
   ]
  },
  {
   "cell_type": "markdown",
   "metadata": {
    "heading_collapsed": true
   },
   "source": [
    "# Conditional Probability"
   ]
  },
  {
   "cell_type": "markdown",
   "metadata": {
    "heading_collapsed": true,
    "hidden": true
   },
   "source": [
    "## Fermat and Pascal: The Unfinished Game"
   ]
  },
  {
   "cell_type": "markdown",
   "metadata": {
    "hidden": true
   },
   "source": [
    "> This example borrowed from Peter Norvig's excellent repo [here](https://github.com/norvig/pytudes)."
   ]
  },
  {
   "cell_type": "markdown",
   "metadata": {
    "hidden": true
   },
   "source": [
    "<table>\n",
    "<tr><td><img src=\"https://upload.wikimedia.org/wikipedia/commons/thumb/9/98/Pierre_de_Fermat2.png/140px-Pierre_de_Fermat2.png\"><center><a href=\"https://en.wikipedia.org/wiki/Pierre_de_Fermat\">Pierre de Fermat</a><br>1654\n",
    "<td><img src=\"https://www.umass.edu/wsp/images/pascal.jpg\"><center><a href=\"https://en.wikipedia.org/wiki/Blaise_Pascal\">Blaise Pascal]</a><br>1654\n",
    "</table>"
   ]
  },
  {
   "cell_type": "markdown",
   "metadata": {
    "hidden": true
   },
   "source": [
    "Consider a gambling game consisting of tossing a coin repeatedly. Player H wins the game as soon as a total of 10 heads come up, and T wins if a total of 10 tails come up before H wins. If the game is interrupted when H has 8 heads and T has 7 tails, how should the pot of money (which happens to be 100 Francs) be split?  Here are some proposals, and arguments against them:\n",
    "- It is uncertain, so just split the pot 50-50. \n",
    "    - *No, because surely H is more likely to win.*\n",
    "- In proportion to each player's current score, so H gets a 8/(8+7) share. \n",
    "    - *No, because if the score was 0 heads to 1 tail, H should get more than 0/1.*\n",
    "- In proportion to how many tosses the opponent needs to win, so H gets 3/(3+2). \n",
    "    - *This seems better, but no, if H is 9 away and T is only 1 away from winning, then it seems that giving H a 1/10 share is too much.*"
   ]
  },
  {
   "cell_type": "markdown",
   "metadata": {
    "hidden": true
   },
   "source": [
    "In 1654, Blaise Pascal and Pierre de Fermat corresponded on this problem, with Fermat [writing](http://mathforum.org/isaac/problems/prob1.html):\n",
    "\n",
    ">Dearest Blaise,\n",
    ">\n",
    ">As to the problem of how to divide the 100 Francs, I think I have found a solution that you will find to be fair. Seeing as I needed only two points to win the game, and you needed 3, I think we can establish that after four more tosses of the coin, the game would have been over. For, in those four tosses, if you did not get the necessary 3 points for your victory, this would imply that I had in fact gained the necessary 2 points for my victory. In a similar manner, if I had not achieved the necessary 2 points for my victory, this would imply that you had in fact achieved at least 3 points and had therefore won the game. Thus, I believe the following list of possible endings to the game is exhaustive. I have denoted 'heads' by an 'h', and tails by a 't.' I have starred the outcomes that indicate a win for myself.\n",
    ">\n",
    ">       h h h h *       h h h t *       h h t h *       h h t t *\n",
    ">       h t h h *       h t h t *       h t t h *       h t t t\n",
    ">       t h h h *       t h h t *       t h t h *       t h t t\n",
    ">       t t h h *       t t h t         t t t h         t t t t\n",
    ">\n",
    ">I think you will agree that all of these outcomes are equally likely. Thus I believe that we should divide the stakes by the ration 11:5 in my favor, that is, I should receive (11/16)&times;100 = 68.75 Francs, while you should receive 31.25 Francs.\n",
    ">\n",
    ">\n",
    ">I hope all is well in Paris,\n",
    ">\n",
    ">Your friend and colleague,\n",
    ">\n",
    ">Pierre"
   ]
  },
  {
   "cell_type": "markdown",
   "metadata": {
    "hidden": true
   },
   "source": [
    "Pascal agreed with this solution, and [replied](http://mathforum.org/isaac/problems/prob2.html) with a generalization that made use of his previous invention, Pascal's Triangle. There's even [a book](https://smile.amazon.com/Unfinished-Game-Pascal-Fermat-Seventeenth-Century/dp/0465018963?sa-no-redirect=1) about it."
   ]
  },
  {
   "cell_type": "markdown",
   "metadata": {
    "heading_collapsed": true,
    "hidden": true
   },
   "source": [
    "## A New Condition"
   ]
  },
  {
   "cell_type": "markdown",
   "metadata": {
    "hidden": true
   },
   "source": [
    "It's an obvious point that the probability of either man winning depends on the results of the coin flips so far. One might like to know not just what, say, Fermat's chances of winning are at this point but also what his chances of  winning would be **given that the next flip results in a 'heads'**. This is asking about a ***conditional probability***."
   ]
  },
  {
   "cell_type": "markdown",
   "metadata": {
    "hidden": true
   },
   "source": [
    "The probability that Fermat wins the game may be 68.75%, but what would it be if the next flip is 'heads'?\n",
    "\n",
    "Let's define...\n",
    "* Event $F$ as Fermat winning the game.\n",
    "* Event $H$ as the next flip turning up heads\n",
    "\n",
    "We can write $P(F | H)$ as the **conditional probability** that Fermat wins _given_ that the next flip is heads."
   ]
  },
  {
   "cell_type": "markdown",
   "metadata": {
    "hidden": true
   },
   "source": [
    "If the next flip is heads, this would make the score 9H - 7T, and so the remaining possible outcomes would then be:\n",
    "\n",
    "- H (50% chance; Fermat wins 10H-7T)\n",
    "- TH (25% chance; Fermat  wins 10H-8T)\n",
    "- TTH (12.5% chance; Fermat wins 10H-9T)\n",
    "- TTT (12.5% chance; Fermat loses 9H-10T)\n",
    "\n",
    "So the probability that Fermat wins, **given that the next flip is 'heads'**, $P(F | H)$, is 87.5%."
   ]
  },
  {
   "cell_type": "markdown",
   "metadata": {
    "hidden": true
   },
   "source": [
    "The probability of Fermat winning has increased, which is to say that the events of (a) the next flip being 'heads' and (b) Fermat winning the game are **not independent**: (a) makes (b) more likely."
   ]
  },
  {
   "cell_type": "markdown",
   "metadata": {
    "heading_collapsed": true,
    "hidden": true
   },
   "source": [
    "## Conditional Probability Rules"
   ]
  },
  {
   "cell_type": "markdown",
   "metadata": {
    "hidden": true
   },
   "source": [
    "When events **are** independent, the rule for probabilistic AND (I'll use '$\\cap$' below) is simple:\n",
    "\n",
    "$$\\huge P(a\\cap b) = P(a) P(b)$$"
   ]
  },
  {
   "cell_type": "markdown",
   "metadata": {
    "hidden": true
   },
   "source": [
    "But the more general rule, which includes non-independent events, is:\n",
    "\n",
    "$$\\huge P(a\\cap b) = P(a | b) P(b)$$."
   ]
  },
  {
   "cell_type": "markdown",
   "metadata": {
    "hidden": true
   },
   "source": [
    "In fact, this is the definition of conditional probability. Rearranging:\n",
    "\n",
    "$$\\huge P(a | b) = \\frac{P(a\\cap b)}{P(b)}$$"
   ]
  },
  {
   "cell_type": "markdown",
   "metadata": {
    "hidden": true
   },
   "source": [
    "> Note that, when $a$ and $b$ are independent, then we have:\n",
    ">\n",
    "> $$\\begin{align}\n",
    "    P(a | b) &= \\frac{P(a\\cap b)}{P(b)} \\\\\n",
    "    \\\\\n",
    "             &= \\frac{P(a) P(b)}{P(b)} \\\\\n",
    "    \\\\\n",
    "             &= P(a)\n",
    "\\end{align}$$"
   ]
  },
  {
   "cell_type": "markdown",
   "metadata": {
    "heading_collapsed": true,
    "hidden": true
   },
   "source": [
    "## Conditional Probability Example"
   ]
  },
  {
   "cell_type": "markdown",
   "metadata": {
    "hidden": true
   },
   "source": [
    "Let's see how we can use these definitions to solve a conditional probability problem.\n",
    "\n",
    "Suppose we have the following probabilities:\n",
    "\n",
    "- The probability of rain tomorrow is 0.8;\n",
    "- The probability that I take my umbrella tomorrow, given that it rains, is 0.9.\n",
    "\n",
    "What is the probability that *both* (a) it rains tomorrow and (b) I take my umbrella?"
   ]
  },
  {
   "cell_type": "code",
   "execution_count": null,
   "metadata": {
    "hidden": true
   },
   "outputs": [],
   "source": [
    "prob_rain = 0.8                           # P(r)\n",
    "prob_umb_if_rain = 0.9                    # P(u | r)\n",
    "\n",
    "prob_rain_and_umb = 0.8 * 0.9             # P(r AND u)\n",
    "prob_rain_and_umb"
   ]
  },
  {
   "cell_type": "markdown",
   "metadata": {
    "hidden": true
   },
   "source": [
    "> **NOTE**\n",
    ">\n",
    "> This is approaches something called ***Baye's Theorem***. There's a bit more in [this _Level Up_ section](#Level-Up:-Bayes-Theorem). We'll also see more of this in a future lecture."
   ]
  },
  {
   "cell_type": "markdown",
   "metadata": {
    "heading_collapsed": true
   },
   "source": [
    "# The Law of Total Probability"
   ]
  },
  {
   "cell_type": "markdown",
   "metadata": {
    "hidden": true
   },
   "source": [
    "Sometimes we want to calculate an **unconditional** probability by making use of some conditional probabilities. Suppose we want to calculate the probability of $e$, the event that Two-Face will free his hostages. And suppose that we already know:\n",
    "\n",
    "- $P(e | H) = 0.9$, and\n",
    "- $P(e | T) = 0.1$,\n",
    "\n",
    "where $H$ is the event of a particular coin toss coming up \"heads\" and $T$ is the event of that same coin toss coming up \"tails\". Suppose we also know that the coin is weighted unfairly, in such a way that the coin has a 60% chance of coming up \"tails\" and a 40% chance of coming up \"heads\"."
   ]
  },
  {
   "cell_type": "markdown",
   "metadata": {
    "hidden": true
   },
   "source": [
    "Notice that $H$ and $T$ together have an interesting relationship. In particular:\n",
    "\n",
    "- $P(H\\cap T) = 0$, i.e. the two events are mutually *exclusive*; and\n",
    "- $P(H\\cup T) = 1$, i.e. the two events are jointly *exhaustive* of all possibilities."
   ]
  },
  {
   "cell_type": "markdown",
   "metadata": {
    "hidden": true
   },
   "source": [
    "Any set of two or more events with these two features (where, strictly, for no event $z$ do we have $P(z) = 0$) is said to **partition** the space of possibilities. In our case, we have $\\Omega = \\{H, T\\}$."
   ]
  },
  {
   "cell_type": "markdown",
   "metadata": {
    "hidden": true
   },
   "source": [
    "For an arbitrary partition, $\\Omega = \\{\\xi_1, ..., \\xi_n\\}$, the ***law of total probability*** tells us the following:\n",
    "\n",
    "$P(e) = P(e\\cap\\xi_1) + ... + P(e\\cap\\xi_n) = P(e | \\xi_1)\\times P(\\xi_1) + ... + P(e | \\xi_n)\\times P(\\xi_n)$."
   ]
  },
  {
   "cell_type": "markdown",
   "metadata": {
    "hidden": true
   },
   "source": [
    "Going back to our example with Two-Face, we can now solve the original question of the probability that Two-Face will free his hostages."
   ]
  },
  {
   "cell_type": "markdown",
   "metadata": {
    "hidden": true
   },
   "source": [
    "What we really want to know is $P(e)$, the probability that Two-Face will free his hostages."
   ]
  },
  {
   "cell_type": "markdown",
   "metadata": {
    "hidden": true
   },
   "source": [
    "We calculate:\n",
    "\n",
    "$$\\begin{align}\n",
    "P(e) &= P(e | H) P(H) + P(e | T) P(T) \\\\\n",
    "     &= (0.9)(0.4) + (0.1)(0.6)  \\\\\n",
    "     &= 0.36 + 0.06 \\\\\n",
    "     &= 0.42\n",
    "\\end{align}$$"
   ]
  },
  {
   "cell_type": "markdown",
   "metadata": {
    "hidden": true
   },
   "source": [
    "Not great; we may need Batman to step in and alter the conditional probabilities."
   ]
  },
  {
   "cell_type": "markdown",
   "metadata": {
    "heading_collapsed": true
   },
   "source": [
    "# Level Up: Python Sets"
   ]
  },
  {
   "cell_type": "markdown",
   "metadata": {
    "hidden": true
   },
   "source": [
    "Python has a [`set` type](https://docs.python.org/3/library/stdtypes.html#set) that follows the rules of a mathematical sets."
   ]
  },
  {
   "cell_type": "markdown",
   "metadata": {
    "heading_collapsed": true,
    "hidden": true,
    "slideshow": {
     "slide_type": "slide"
    }
   },
   "source": [
    "## Set Theory"
   ]
  },
  {
   "cell_type": "markdown",
   "metadata": {
    "hidden": true
   },
   "source": [
    "In Python, if I want to make a set, I can use the base function `set()`, or I can use '{' and '}'. "
   ]
  },
  {
   "cell_type": "code",
   "execution_count": null,
   "metadata": {
    "hidden": true
   },
   "outputs": [],
   "source": [
    "a = set([1, 2])"
   ]
  },
  {
   "cell_type": "code",
   "execution_count": null,
   "metadata": {
    "hidden": true
   },
   "outputs": [],
   "source": [
    "b = {1, 2}"
   ]
  },
  {
   "cell_type": "code",
   "execution_count": null,
   "metadata": {
    "hidden": true
   },
   "outputs": [],
   "source": [
    "a == b"
   ]
  },
  {
   "cell_type": "code",
   "execution_count": null,
   "metadata": {
    "hidden": true
   },
   "outputs": [],
   "source": [
    "a1 = {2, 1}\n",
    "\n",
    "a1 == a"
   ]
  },
  {
   "cell_type": "markdown",
   "metadata": {
    "heading_collapsed": true,
    "hidden": true
   },
   "source": [
    "### Empty Set"
   ]
  },
  {
   "cell_type": "markdown",
   "metadata": {
    "hidden": true
   },
   "source": [
    "The **empty set**, written as $\\emptyset$ or { }, has no elements. Just remember that in Python, `{}` will initiate an empty _dictionary_, not a set."
   ]
  },
  {
   "cell_type": "code",
   "execution_count": null,
   "metadata": {
    "hidden": true,
    "scrolled": true
   },
   "outputs": [],
   "source": [
    "type({})"
   ]
  },
  {
   "cell_type": "code",
   "execution_count": null,
   "metadata": {
    "hidden": true
   },
   "outputs": [],
   "source": [
    "m = set()"
   ]
  },
  {
   "cell_type": "code",
   "execution_count": null,
   "metadata": {
    "hidden": true
   },
   "outputs": [],
   "source": [
    "type(m)"
   ]
  },
  {
   "cell_type": "code",
   "execution_count": null,
   "metadata": {
    "hidden": true
   },
   "outputs": [],
   "source": [
    "print(m)"
   ]
  },
  {
   "cell_type": "markdown",
   "metadata": {
    "heading_collapsed": true,
    "hidden": true
   },
   "source": [
    "### Iterables"
   ]
  },
  {
   "cell_type": "code",
   "execution_count": null,
   "metadata": {
    "hidden": true
   },
   "outputs": [],
   "source": [
    "a = set(['greg'])"
   ]
  },
  {
   "cell_type": "code",
   "execution_count": null,
   "metadata": {
    "hidden": true
   },
   "outputs": [],
   "source": [
    "b = {'greg'}"
   ]
  },
  {
   "cell_type": "code",
   "execution_count": null,
   "metadata": {
    "hidden": true
   },
   "outputs": [],
   "source": [
    "c = set('greg')"
   ]
  },
  {
   "cell_type": "code",
   "execution_count": null,
   "metadata": {
    "hidden": true
   },
   "outputs": [],
   "source": [
    "a == b"
   ]
  },
  {
   "cell_type": "code",
   "execution_count": null,
   "metadata": {
    "hidden": true
   },
   "outputs": [],
   "source": [
    "a == c"
   ]
  },
  {
   "cell_type": "code",
   "execution_count": null,
   "metadata": {
    "hidden": true
   },
   "outputs": [],
   "source": [
    "a"
   ]
  },
  {
   "cell_type": "code",
   "execution_count": null,
   "metadata": {
    "hidden": true
   },
   "outputs": [],
   "source": [
    "c"
   ]
  },
  {
   "cell_type": "markdown",
   "metadata": {
    "heading_collapsed": true,
    "hidden": true,
    "slideshow": {
     "slide_type": "slide"
    }
   },
   "source": [
    "## Subsets"
   ]
  },
  {
   "cell_type": "code",
   "execution_count": null,
   "metadata": {
    "hidden": true
   },
   "outputs": [],
   "source": [
    "c"
   ]
  },
  {
   "cell_type": "code",
   "execution_count": null,
   "metadata": {
    "hidden": true
   },
   "outputs": [],
   "source": [
    "d = set(['g', 'r'])"
   ]
  },
  {
   "cell_type": "code",
   "execution_count": null,
   "metadata": {
    "hidden": true
   },
   "outputs": [],
   "source": [
    "d.issubset(c)"
   ]
  },
  {
   "cell_type": "code",
   "execution_count": null,
   "metadata": {
    "hidden": true
   },
   "outputs": [],
   "source": [
    "m = set()\n",
    "m.issubset(c)"
   ]
  },
  {
   "cell_type": "markdown",
   "metadata": {
    "heading_collapsed": true,
    "hidden": true
   },
   "source": [
    "## Set Operations - Example"
   ]
  },
  {
   "cell_type": "markdown",
   "metadata": {
    "hidden": true,
    "slideshow": {
     "slide_type": "slide"
    }
   },
   "source": [
    "We are trying to create rooming arrangements based on staff interest for a staff trip. <br>\n",
    "\n",
    "Who should room with whom based on shared interests?"
   ]
  },
  {
   "cell_type": "code",
   "execution_count": null,
   "metadata": {
    "hidden": true,
    "slideshow": {
     "slide_type": "fragment"
    }
   },
   "outputs": [],
   "source": [
    "Robin = {\"art\", \"traveling\", \"wine\", \"doodling\", \"tech\", \"gadgets\"}\n",
    "Rob = {\"rock-climbing\", \"traveling\", \"dad jokes\", \"ice cream\"}\n",
    "Alison = {\"wine\", \"traveling\", \"Schitts Creek\", \"dogs\"}\n",
    "Su = {\"Schitts Creek\", \"dogs\", \"tarot card reading\", \"croquet\", \"taxonomy\"}\n",
    "Molly = {\"wine\", \"ice cream\", \"dogs\", \"zookeeping\", \"traveling\"}"
   ]
  },
  {
   "cell_type": "code",
   "execution_count": null,
   "metadata": {
    "hidden": true
   },
   "outputs": [],
   "source": [
    "Robin.intersection(Alison)"
   ]
  },
  {
   "cell_type": "code",
   "execution_count": null,
   "metadata": {
    "hidden": true
   },
   "outputs": [],
   "source": [
    "Rob.intersection(Alison)"
   ]
  },
  {
   "cell_type": "markdown",
   "metadata": {
    "hidden": true,
    "slideshow": {
     "slide_type": "slide"
    }
   },
   "source": [
    "**Prompt**: What would the union of the sets `Rob` and `Alison` tell us?"
   ]
  },
  {
   "cell_type": "code",
   "execution_count": null,
   "metadata": {
    "hidden": true
   },
   "outputs": [],
   "source": [
    "Rob.union(Alison)"
   ]
  },
  {
   "cell_type": "markdown",
   "metadata": {
    "heading_collapsed": true
   },
   "source": [
    "# Level Up: Bayes Theorem"
   ]
  },
  {
   "cell_type": "markdown",
   "metadata": {
    "hidden": true
   },
   "source": [
    "Intuitively, we expect that $P(a\\cap b) = P(b\\cap a)$, so we could equally well write:\n",
    "\n",
    "- $P(a\\cap b) = P(b | a)\\times P(a)$.\n",
    "\n",
    "This equivalence leads to an important theorem of conditional probability:\n",
    "\n",
    "$P(a | b)\\times P(b) = P(b | a)\\times P(a)$\n",
    "\n",
    "Thus:\n",
    "\n",
    "$\\huge P(a | b) = \\frac{P(a)\\times P(b | a)}{P(b)}$.\n",
    "\n",
    "This is **Bayes's Theorem**. We'll have more to say about this in a later lesson."
   ]
  },
  {
   "cell_type": "markdown",
   "metadata": {
    "heading_collapsed": true,
    "slideshow": {
     "slide_type": "slide"
    }
   },
   "source": [
    "# Level Up: Permutations & Combinations"
   ]
  },
  {
   "cell_type": "markdown",
   "metadata": {
    "hidden": true,
    "slideshow": {
     "slide_type": "slide"
    }
   },
   "source": [
    "Permutations and combinations are helpful when we're trying to solve certain counting problems. Formulas help us calculate the total number of possible outcomes in various scenarios. "
   ]
  },
  {
   "cell_type": "markdown",
   "metadata": {
    "heading_collapsed": true,
    "hidden": true,
    "slideshow": {
     "slide_type": "slide"
    }
   },
   "source": [
    "### Permutations"
   ]
  },
  {
   "cell_type": "markdown",
   "metadata": {
    "hidden": true,
    "slideshow": {
     "slide_type": "slide"
    }
   },
   "source": [
    "Use these when ordering matters: How many different arrangements can you get out of a number of elements? \n",
    "\n",
    "The number of arrangements of $r$ elements out of a total of $n$ elements is given by: $\\Large\\frac{n!}{(n – r)!}$.\n",
    "        \n",
    "Why is this the right formula?\n",
    "\n",
    "We have:\n",
    "- $n$ choices for the item in the first position;\n",
    "- $n-1$ choices for the item in the second position (since we've reserved one of the original items for the first position);\n",
    "- ... ;\n",
    "- and $n-(r-1)=n-r+1$ choices for the item in the last position.\n",
    "\n",
    "So that's $n!$ without the terms below $n-r+1$, i.e. $\\frac{n!}{(n-r)!}$."
   ]
  },
  {
   "cell_type": "markdown",
   "metadata": {
    "hidden": true,
    "slideshow": {
     "slide_type": "fragment"
    }
   },
   "source": [
    "```python\n",
    "from itertools import permutations \n",
    "l = list(permutations(range(1, 4))) \n",
    "print(l)\n",
    "```"
   ]
  },
  {
   "cell_type": "markdown",
   "metadata": {
    "heading_collapsed": true,
    "hidden": true
   },
   "source": [
    "#### Easiest Scenario"
   ]
  },
  {
   "cell_type": "markdown",
   "metadata": {
    "hidden": true
   },
   "source": [
    "How many ways are there of arranging the letters in `DAMICO`?"
   ]
  },
  {
   "cell_type": "code",
   "execution_count": null,
   "metadata": {
    "hidden": true
   },
   "outputs": [],
   "source": [
    "6*5*4*3*2*1"
   ]
  },
  {
   "cell_type": "code",
   "execution_count": null,
   "metadata": {
    "hidden": true
   },
   "outputs": [],
   "source": [
    "from math import factorial\n",
    "\n",
    "factorial(6)"
   ]
  },
  {
   "cell_type": "markdown",
   "metadata": {
    "heading_collapsed": true,
    "hidden": true
   },
   "source": [
    "#### Intermediate Scenario"
   ]
  },
  {
   "cell_type": "markdown",
   "metadata": {
    "hidden": true
   },
   "source": [
    "How many ways are there of arranging the letters in `GREG`?"
   ]
  },
  {
   "cell_type": "markdown",
   "metadata": {
    "hidden": true
   },
   "source": [
    "eggr, egrg, ergg\n",
    "gegr, gerg, gger, ggre, greg, grge\n",
    "regg, rgeg, rgge"
   ]
  },
  {
   "cell_type": "markdown",
   "metadata": {
    "heading_collapsed": true,
    "hidden": true,
    "slideshow": {
     "slide_type": "slide"
    }
   },
   "source": [
    "#### Level Up Scenario"
   ]
  },
  {
   "cell_type": "markdown",
   "metadata": {
    "hidden": true,
    "slideshow": {
     "slide_type": "slide"
    }
   },
   "source": [
    "You are trying to break the code - to hack into the mainframe, and stop the KGB from launching US missiles remotely.\n",
    "\n",
    "You know the password is some 5 letter anagram of a subset of the word `pochemuchka`\n",
    "\n",
    "How many potential passwords are there? i.e., how large is the **set** of password options?"
   ]
  },
  {
   "cell_type": "code",
   "execution_count": null,
   "metadata": {
    "hidden": true,
    "slideshow": {
     "slide_type": "skip"
    }
   },
   "outputs": [],
   "source": [
    "from itertools import permutations"
   ]
  },
  {
   "cell_type": "code",
   "execution_count": null,
   "metadata": {
    "hidden": true,
    "slideshow": {
     "slide_type": "skip"
    }
   },
   "outputs": [],
   "source": [
    "l = list(permutations(\"pochemuchka\", 5))"
   ]
  },
  {
   "cell_type": "code",
   "execution_count": null,
   "metadata": {
    "hidden": true
   },
   "outputs": [],
   "source": [
    "len(l)"
   ]
  },
  {
   "cell_type": "code",
   "execution_count": null,
   "metadata": {
    "hidden": true
   },
   "outputs": [],
   "source": [
    "11 * 10 * 9 * 8 * 7"
   ]
  },
  {
   "cell_type": "code",
   "execution_count": null,
   "metadata": {
    "hidden": true
   },
   "outputs": [],
   "source": [
    "len(set(l))"
   ]
  },
  {
   "cell_type": "markdown",
   "metadata": {
    "heading_collapsed": true,
    "hidden": true,
    "slideshow": {
     "slide_type": "slide"
    }
   },
   "source": [
    "### Combinations"
   ]
  },
  {
   "cell_type": "markdown",
   "metadata": {
    "hidden": true,
    "slideshow": {
     "slide_type": "slide"
    }
   },
   "source": [
    "Ordering does not matter. <br/>\n",
    "How many different selections can you get out of a number of elements? <br/>\n",
    "The number of selections of $r$ out of a total of $n$ elements is given by: $\\Large{n\\choose r} = \\frac{n!}{r!(n – r)!}$.\n",
    "\n",
    "Why is this the right formula?\n",
    "\n",
    "We have:\n",
    "\n",
    "The count is related to the number of associated permutations of $r$ elements, choosing from a total of $n$, namely $\\frac{n!}{(n-r)!}$.\n",
    "\n",
    "But since order doesn't matter, we need to divide our count by the number of ways of arranging the $r$ objects we've chosen. And we know what that number is: It's simply $r!$.\n",
    "\n",
    "So our total count will be $\\frac{n!}{(n-r)!r!}$."
   ]
  },
  {
   "cell_type": "markdown",
   "metadata": {
    "heading_collapsed": true,
    "hidden": true
   },
   "source": [
    "#### Easier Scenario:"
   ]
  },
  {
   "cell_type": "markdown",
   "metadata": {
    "hidden": true
   },
   "source": [
    "How many ways are there of choosing two students from a group of six?"
   ]
  },
  {
   "cell_type": "code",
   "execution_count": null,
   "metadata": {
    "hidden": true
   },
   "outputs": [],
   "source": [
    "factorial(6) / (factorial(2) * factorial(4))"
   ]
  },
  {
   "cell_type": "markdown",
   "metadata": {
    "heading_collapsed": true,
    "hidden": true
   },
   "source": [
    "#### Level Up Scenario"
   ]
  },
  {
   "cell_type": "markdown",
   "metadata": {
    "hidden": true
   },
   "source": [
    "What are the chances of getting exactly 3 \"heads\" on 5 flips?\n",
    "\n",
    "$\\rightarrow$ We'll look at the binomial distribution soon!"
   ]
  },
  {
   "cell_type": "code",
   "execution_count": null,
   "metadata": {
    "hidden": true
   },
   "outputs": [],
   "source": [
    "from count_class import Counter"
   ]
  },
  {
   "cell_type": "code",
   "execution_count": null,
   "metadata": {
    "hidden": true
   },
   "outputs": [],
   "source": [
    "c2 = Counter(arr='david')\n",
    "c2.calc(3)"
   ]
  },
  {
   "cell_type": "code",
   "execution_count": null,
   "metadata": {
    "hidden": true
   },
   "outputs": [],
   "source": [
    "c2.final_list"
   ]
  },
  {
   "cell_type": "markdown",
   "metadata": {
    "heading_collapsed": true,
    "slideshow": {
     "slide_type": "slide"
    }
   },
   "source": [
    "# Level Up: Three Events"
   ]
  },
  {
   "cell_type": "markdown",
   "metadata": {
    "hidden": true,
    "slideshow": {
     "slide_type": "slide"
    }
   },
   "source": [
    "What is the probability of having at least one of three events?"
   ]
  },
  {
   "cell_type": "markdown",
   "metadata": {
    "hidden": true,
    "slideshow": {
     "slide_type": "fragment"
    }
   },
   "source": [
    "$ P(A [or] B [or] C) = P(A) + P(B) + P(C) - P(A [and] B) - P(A [and] C) - P(B [and] C) + P(A [and] B [and] C) $"
   ]
  }
 ],
 "metadata": {
  "kernelspec": {
   "display_name": "Python 3",
   "language": "python",
   "name": "python3"
  },
  "language_info": {
   "codemirror_mode": {
    "name": "ipython",
    "version": 3
   },
   "file_extension": ".py",
   "mimetype": "text/x-python",
   "name": "python",
   "nbconvert_exporter": "python",
   "pygments_lexer": "ipython3",
   "version": "3.8.5"
  },
  "toc": {
   "base_numbering": 1,
   "nav_menu": {},
   "number_sections": true,
   "sideBar": true,
   "skip_h1_title": false,
   "title_cell": "Table of Contents",
   "title_sidebar": "TOC",
   "toc_cell": true,
   "toc_position": {
    "height": "calc(100% - 180px)",
    "left": "10px",
    "top": "150px",
    "width": "278px"
   },
   "toc_section_display": true,
   "toc_window_display": true
  }
 },
 "nbformat": 4,
 "nbformat_minor": 2
}
